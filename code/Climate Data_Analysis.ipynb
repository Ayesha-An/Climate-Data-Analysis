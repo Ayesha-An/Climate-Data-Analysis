{
 "cells": [
  {
   "cell_type": "code",
   "execution_count": 1,
   "id": "43649ae8-41d1-42fe-a83f-be4d75451d3f",
   "metadata": {},
   "outputs": [],
   "source": [
    "import csv\n",
    "import pandas as pd\n",
    "import matplotlib.pyplot as plt"
   ]
  },
  {
   "cell_type": "markdown",
   "id": "31684acf-7605-484f-ab41-5dd46dfd5921",
   "metadata": {},
   "source": [
    "## <a id= 'evaluate_3d2'></a> Introduction"
   ]
  },
  {
   "cell_type": "markdown",
   "id": "a96086c4-0691-41b7-9311-7d110ef70a46",
   "metadata": {},
   "source": [
    "To study the climatic data for Pakistan. I downloaded the Temperature and Precipitation data from \"https://opendata.com.pk/\" for the year from 1995 to 2016.\n",
    "First read the both csv files and make Temperature and Weather dataframes."
   ]
  },
  {
   "cell_type": "code",
   "execution_count": 2,
   "id": "ae2e8dd4-4c4e-4f49-ab55-258835cfa35d",
   "metadata": {},
   "outputs": [],
   "source": [
    "#Open the csv files\n",
    "\n",
    "data_Rainfall = pd.read_csv(\"Rainfall.csv\")\n",
    "data_Temperature = pd.read_csv(\"Temperature.csv\")"
   ]
  },
  {
   "cell_type": "code",
   "execution_count": 3,
   "id": "86c29eae-d327-4ee2-b56b-81730c43d0ef",
   "metadata": {},
   "outputs": [
    {
     "data": {
      "text/html": [
       "<div>\n",
       "<style scoped>\n",
       "    .dataframe tbody tr th:only-of-type {\n",
       "        vertical-align: middle;\n",
       "    }\n",
       "\n",
       "    .dataframe tbody tr th {\n",
       "        vertical-align: top;\n",
       "    }\n",
       "\n",
       "    .dataframe thead th {\n",
       "        text-align: right;\n",
       "    }\n",
       "</style>\n",
       "<table border=\"1\" class=\"dataframe\">\n",
       "  <thead>\n",
       "    <tr style=\"text-align: right;\">\n",
       "      <th></th>\n",
       "      <th>Year</th>\n",
       "      <th>Month</th>\n",
       "      <th>Rainfall - (MM)</th>\n",
       "    </tr>\n",
       "  </thead>\n",
       "  <tbody>\n",
       "    <tr>\n",
       "      <th>0</th>\n",
       "      <td>1995</td>\n",
       "      <td>January</td>\n",
       "      <td>9.26441</td>\n",
       "    </tr>\n",
       "    <tr>\n",
       "      <th>1</th>\n",
       "      <td>1995</td>\n",
       "      <td>February</td>\n",
       "      <td>30.18640</td>\n",
       "    </tr>\n",
       "    <tr>\n",
       "      <th>2</th>\n",
       "      <td>1995</td>\n",
       "      <td>March</td>\n",
       "      <td>23.10220</td>\n",
       "    </tr>\n",
       "    <tr>\n",
       "      <th>3</th>\n",
       "      <td>1995</td>\n",
       "      <td>April</td>\n",
       "      <td>44.23810</td>\n",
       "    </tr>\n",
       "    <tr>\n",
       "      <th>4</th>\n",
       "      <td>1995</td>\n",
       "      <td>May</td>\n",
       "      <td>11.17590</td>\n",
       "    </tr>\n",
       "  </tbody>\n",
       "</table>\n",
       "</div>"
      ],
      "text/plain": [
       "    Year     Month  Rainfall - (MM)\n",
       "0   1995   January          9.26441\n",
       "1   1995  February         30.18640\n",
       "2   1995     March         23.10220\n",
       "3   1995     April         44.23810\n",
       "4   1995       May         11.17590"
      ]
     },
     "execution_count": 3,
     "metadata": {},
     "output_type": "execute_result"
    }
   ],
   "source": [
    "#Rainfall dataframe and read its values\n",
    "\n",
    "Rainfall = pd.DataFrame(data_Rainfall)\n",
    "Rainfall.head()"
   ]
  },
  {
   "cell_type": "code",
   "execution_count": 4,
   "id": "bb4000c4-4229-4c27-a9fb-07c643e896d4",
   "metadata": {},
   "outputs": [
    {
     "data": {
      "text/html": [
       "<div>\n",
       "<style scoped>\n",
       "    .dataframe tbody tr th:only-of-type {\n",
       "        vertical-align: middle;\n",
       "    }\n",
       "\n",
       "    .dataframe tbody tr th {\n",
       "        vertical-align: top;\n",
       "    }\n",
       "\n",
       "    .dataframe thead th {\n",
       "        text-align: right;\n",
       "    }\n",
       "</style>\n",
       "<table border=\"1\" class=\"dataframe\">\n",
       "  <thead>\n",
       "    <tr style=\"text-align: right;\">\n",
       "      <th></th>\n",
       "      <th>Year</th>\n",
       "      <th>Month</th>\n",
       "      <th>Temperature</th>\n",
       "    </tr>\n",
       "  </thead>\n",
       "  <tbody>\n",
       "    <tr>\n",
       "      <th>0</th>\n",
       "      <td>1995</td>\n",
       "      <td>January</td>\n",
       "      <td>8.65067</td>\n",
       "    </tr>\n",
       "    <tr>\n",
       "      <th>1</th>\n",
       "      <td>1995</td>\n",
       "      <td>February</td>\n",
       "      <td>10.65880</td>\n",
       "    </tr>\n",
       "    <tr>\n",
       "      <th>2</th>\n",
       "      <td>1995</td>\n",
       "      <td>March</td>\n",
       "      <td>27.71860</td>\n",
       "    </tr>\n",
       "    <tr>\n",
       "      <th>3</th>\n",
       "      <td>1995</td>\n",
       "      <td>April</td>\n",
       "      <td>10.65880</td>\n",
       "    </tr>\n",
       "    <tr>\n",
       "      <th>4</th>\n",
       "      <td>1995</td>\n",
       "      <td>May</td>\n",
       "      <td>27.71860</td>\n",
       "    </tr>\n",
       "  </tbody>\n",
       "</table>\n",
       "</div>"
      ],
      "text/plain": [
       "    Year     Month  Temperature\n",
       "0   1995   January      8.65067\n",
       "1   1995  February     10.65880\n",
       "2   1995     March     27.71860\n",
       "3   1995     April     10.65880\n",
       "4   1995       May     27.71860"
      ]
     },
     "execution_count": 4,
     "metadata": {},
     "output_type": "execute_result"
    }
   ],
   "source": [
    "#Temperature dataframe and read its values\n",
    "\n",
    "Temperature = pd.DataFrame(data_Temperature)\n",
    "Temperature.head()"
   ]
  },
  {
   "cell_type": "markdown",
   "id": "a3d12627-8df8-4f05-9785-dc15b3280457",
   "metadata": {},
   "source": [
    "## <a id= 'evaluate_3d2'></a> Preprocessing"
   ]
  },
  {
   "cell_type": "markdown",
   "id": "0d2f48a2-5fc2-4fcc-b342-6412e0b92b37",
   "metadata": {},
   "source": [
    "During the preprocessing \n",
    "1. Combine both dataframes in one dataframe\n",
    "2. Change the names of Columns\n",
    "3. Check if there is null value "
   ]
  },
  {
   "cell_type": "code",
   "execution_count": 5,
   "id": "715e6c57-4f9b-4102-8d44-528839a31f21",
   "metadata": {},
   "outputs": [
    {
     "data": {
      "text/html": [
       "<div>\n",
       "<style scoped>\n",
       "    .dataframe tbody tr th:only-of-type {\n",
       "        vertical-align: middle;\n",
       "    }\n",
       "\n",
       "    .dataframe tbody tr th {\n",
       "        vertical-align: top;\n",
       "    }\n",
       "\n",
       "    .dataframe thead th {\n",
       "        text-align: right;\n",
       "    }\n",
       "</style>\n",
       "<table border=\"1\" class=\"dataframe\">\n",
       "  <thead>\n",
       "    <tr style=\"text-align: right;\">\n",
       "      <th></th>\n",
       "      <th>Year</th>\n",
       "      <th>Month</th>\n",
       "      <th>Rainfall - (MM)</th>\n",
       "      <th>Temperature</th>\n",
       "    </tr>\n",
       "  </thead>\n",
       "  <tbody>\n",
       "    <tr>\n",
       "      <th>0</th>\n",
       "      <td>1995</td>\n",
       "      <td>January</td>\n",
       "      <td>9.26441</td>\n",
       "      <td>8.65067</td>\n",
       "    </tr>\n",
       "    <tr>\n",
       "      <th>1</th>\n",
       "      <td>1995</td>\n",
       "      <td>February</td>\n",
       "      <td>30.18640</td>\n",
       "      <td>10.65880</td>\n",
       "    </tr>\n",
       "    <tr>\n",
       "      <th>2</th>\n",
       "      <td>1995</td>\n",
       "      <td>March</td>\n",
       "      <td>23.10220</td>\n",
       "      <td>27.71860</td>\n",
       "    </tr>\n",
       "    <tr>\n",
       "      <th>3</th>\n",
       "      <td>1995</td>\n",
       "      <td>April</td>\n",
       "      <td>44.23810</td>\n",
       "      <td>10.65880</td>\n",
       "    </tr>\n",
       "    <tr>\n",
       "      <th>4</th>\n",
       "      <td>1995</td>\n",
       "      <td>May</td>\n",
       "      <td>11.17590</td>\n",
       "      <td>27.71860</td>\n",
       "    </tr>\n",
       "    <tr>\n",
       "      <th>...</th>\n",
       "      <td>...</td>\n",
       "      <td>...</td>\n",
       "      <td>...</td>\n",
       "      <td>...</td>\n",
       "    </tr>\n",
       "    <tr>\n",
       "      <th>259</th>\n",
       "      <td>2016</td>\n",
       "      <td>August</td>\n",
       "      <td>60.60610</td>\n",
       "      <td>10.81770</td>\n",
       "    </tr>\n",
       "    <tr>\n",
       "      <th>260</th>\n",
       "      <td>2016</td>\n",
       "      <td>September</td>\n",
       "      <td>13.76940</td>\n",
       "      <td>12.87630</td>\n",
       "    </tr>\n",
       "    <tr>\n",
       "      <th>261</th>\n",
       "      <td>2016</td>\n",
       "      <td>October</td>\n",
       "      <td>1.07552</td>\n",
       "      <td>12.87630</td>\n",
       "    </tr>\n",
       "    <tr>\n",
       "      <th>262</th>\n",
       "      <td>2016</td>\n",
       "      <td>November</td>\n",
       "      <td>2.88480</td>\n",
       "      <td>15.76720</td>\n",
       "    </tr>\n",
       "    <tr>\n",
       "      <th>263</th>\n",
       "      <td>2016</td>\n",
       "      <td>December</td>\n",
       "      <td>7.82298</td>\n",
       "      <td>10.81770</td>\n",
       "    </tr>\n",
       "  </tbody>\n",
       "</table>\n",
       "<p>264 rows × 4 columns</p>\n",
       "</div>"
      ],
      "text/plain": [
       "      Year      Month  Rainfall - (MM)  Temperature\n",
       "0     1995    January          9.26441      8.65067\n",
       "1     1995   February         30.18640     10.65880\n",
       "2     1995      March         23.10220     27.71860\n",
       "3     1995      April         44.23810     10.65880\n",
       "4     1995        May         11.17590     27.71860\n",
       "..     ...        ...              ...          ...\n",
       "259   2016     August         60.60610     10.81770\n",
       "260   2016  September         13.76940     12.87630\n",
       "261   2016    October          1.07552     12.87630\n",
       "262   2016   November          2.88480     15.76720\n",
       "263   2016   December          7.82298     10.81770\n",
       "\n",
       "[264 rows x 4 columns]"
      ]
     },
     "execution_count": 5,
     "metadata": {},
     "output_type": "execute_result"
    }
   ],
   "source": [
    "weather = pd.concat([Rainfall, Temperature['Temperature']], axis=1, join='inner')\n",
    "weather"
   ]
  },
  {
   "cell_type": "code",
   "execution_count": 6,
   "id": "a199c1c3-6ae1-4cc4-a3b4-240c1a5fdc73",
   "metadata": {},
   "outputs": [],
   "source": [
    "weather = weather.rename(columns={'Rainfall - (MM)': 'Rainfall-MM','Temperature': 'Temperature-Celsius', \" Year\": \"Year\"})"
   ]
  },
  {
   "cell_type": "code",
   "execution_count": 7,
   "id": "7e1cdc67-dfcd-4874-bf60-d6b511cfd273",
   "metadata": {},
   "outputs": [
    {
     "data": {
      "text/html": [
       "<div>\n",
       "<style scoped>\n",
       "    .dataframe tbody tr th:only-of-type {\n",
       "        vertical-align: middle;\n",
       "    }\n",
       "\n",
       "    .dataframe tbody tr th {\n",
       "        vertical-align: top;\n",
       "    }\n",
       "\n",
       "    .dataframe thead th {\n",
       "        text-align: right;\n",
       "    }\n",
       "</style>\n",
       "<table border=\"1\" class=\"dataframe\">\n",
       "  <thead>\n",
       "    <tr style=\"text-align: right;\">\n",
       "      <th></th>\n",
       "      <th>Year</th>\n",
       "      <th>Month</th>\n",
       "      <th>Rainfall-MM</th>\n",
       "      <th>Temperature-Celsius</th>\n",
       "    </tr>\n",
       "  </thead>\n",
       "  <tbody>\n",
       "    <tr>\n",
       "      <th>0</th>\n",
       "      <td>False</td>\n",
       "      <td>False</td>\n",
       "      <td>False</td>\n",
       "      <td>False</td>\n",
       "    </tr>\n",
       "    <tr>\n",
       "      <th>1</th>\n",
       "      <td>False</td>\n",
       "      <td>False</td>\n",
       "      <td>False</td>\n",
       "      <td>False</td>\n",
       "    </tr>\n",
       "    <tr>\n",
       "      <th>2</th>\n",
       "      <td>False</td>\n",
       "      <td>False</td>\n",
       "      <td>False</td>\n",
       "      <td>False</td>\n",
       "    </tr>\n",
       "    <tr>\n",
       "      <th>3</th>\n",
       "      <td>False</td>\n",
       "      <td>False</td>\n",
       "      <td>False</td>\n",
       "      <td>False</td>\n",
       "    </tr>\n",
       "    <tr>\n",
       "      <th>4</th>\n",
       "      <td>False</td>\n",
       "      <td>False</td>\n",
       "      <td>False</td>\n",
       "      <td>False</td>\n",
       "    </tr>\n",
       "    <tr>\n",
       "      <th>...</th>\n",
       "      <td>...</td>\n",
       "      <td>...</td>\n",
       "      <td>...</td>\n",
       "      <td>...</td>\n",
       "    </tr>\n",
       "    <tr>\n",
       "      <th>259</th>\n",
       "      <td>False</td>\n",
       "      <td>False</td>\n",
       "      <td>False</td>\n",
       "      <td>False</td>\n",
       "    </tr>\n",
       "    <tr>\n",
       "      <th>260</th>\n",
       "      <td>False</td>\n",
       "      <td>False</td>\n",
       "      <td>False</td>\n",
       "      <td>False</td>\n",
       "    </tr>\n",
       "    <tr>\n",
       "      <th>261</th>\n",
       "      <td>False</td>\n",
       "      <td>False</td>\n",
       "      <td>False</td>\n",
       "      <td>False</td>\n",
       "    </tr>\n",
       "    <tr>\n",
       "      <th>262</th>\n",
       "      <td>False</td>\n",
       "      <td>False</td>\n",
       "      <td>False</td>\n",
       "      <td>False</td>\n",
       "    </tr>\n",
       "    <tr>\n",
       "      <th>263</th>\n",
       "      <td>False</td>\n",
       "      <td>False</td>\n",
       "      <td>False</td>\n",
       "      <td>False</td>\n",
       "    </tr>\n",
       "  </tbody>\n",
       "</table>\n",
       "<p>264 rows × 4 columns</p>\n",
       "</div>"
      ],
      "text/plain": [
       "      Year  Month  Rainfall-MM  Temperature-Celsius\n",
       "0    False  False        False                False\n",
       "1    False  False        False                False\n",
       "2    False  False        False                False\n",
       "3    False  False        False                False\n",
       "4    False  False        False                False\n",
       "..     ...    ...          ...                  ...\n",
       "259  False  False        False                False\n",
       "260  False  False        False                False\n",
       "261  False  False        False                False\n",
       "262  False  False        False                False\n",
       "263  False  False        False                False\n",
       "\n",
       "[264 rows x 4 columns]"
      ]
     },
     "execution_count": 7,
     "metadata": {},
     "output_type": "execute_result"
    }
   ],
   "source": [
    "weather.isnull()"
   ]
  },
  {
   "cell_type": "code",
   "execution_count": 8,
   "id": "cf733263-3e1d-4a93-a85e-bdbe4608a66e",
   "metadata": {},
   "outputs": [
    {
     "name": "stdout",
     "output_type": "stream",
     "text": [
      "Number of no data values per column: \n",
      "Year                   0\n",
      "Month                  0\n",
      "Rainfall-MM            0\n",
      "Temperature-Celsius    0\n",
      "dtype: int64\n"
     ]
    }
   ],
   "source": [
    "print('Number of no data values per column: ')\n",
    "print(weather.isna().sum())"
   ]
  },
  {
   "cell_type": "markdown",
   "id": "6c302728-2ef6-40de-87d6-181be5045615",
   "metadata": {},
   "source": [
    "## <a id= 'evaluate_3d2'></a> Analysis"
   ]
  },
  {
   "cell_type": "markdown",
   "id": "932f81b5-adb3-4629-98c0-1865eaa13742",
   "metadata": {},
   "source": [
    "Find the statistics of the rainfall and temperature data and correlation between temperature and precipitation. Also plot the box plot to analyze the variance in temperature and rainfall.\n",
    "Analyze the data on monthly basis and yearly basis and plot the data for all four. seasons"
   ]
  },
  {
   "cell_type": "code",
   "execution_count": 9,
   "id": "9028cf5d-1707-482d-bb3b-d67ef5b964c2",
   "metadata": {},
   "outputs": [
    {
     "data": {
      "text/html": [
       "<div>\n",
       "<style scoped>\n",
       "    .dataframe tbody tr th:only-of-type {\n",
       "        vertical-align: middle;\n",
       "    }\n",
       "\n",
       "    .dataframe tbody tr th {\n",
       "        vertical-align: top;\n",
       "    }\n",
       "\n",
       "    .dataframe thead th {\n",
       "        text-align: right;\n",
       "    }\n",
       "</style>\n",
       "<table border=\"1\" class=\"dataframe\">\n",
       "  <thead>\n",
       "    <tr style=\"text-align: right;\">\n",
       "      <th></th>\n",
       "      <th>Year</th>\n",
       "      <th>Rainfall-MM</th>\n",
       "      <th>Temperature-Celsius</th>\n",
       "    </tr>\n",
       "  </thead>\n",
       "  <tbody>\n",
       "    <tr>\n",
       "      <th>count</th>\n",
       "      <td>264.000000</td>\n",
       "      <td>264.000000</td>\n",
       "      <td>264.000000</td>\n",
       "    </tr>\n",
       "    <tr>\n",
       "      <th>mean</th>\n",
       "      <td>2005.500000</td>\n",
       "      <td>25.814406</td>\n",
       "      <td>15.016457</td>\n",
       "    </tr>\n",
       "    <tr>\n",
       "      <th>std</th>\n",
       "      <td>6.356339</td>\n",
       "      <td>21.106613</td>\n",
       "      <td>7.032235</td>\n",
       "    </tr>\n",
       "    <tr>\n",
       "      <th>min</th>\n",
       "      <td>1995.000000</td>\n",
       "      <td>0.161850</td>\n",
       "      <td>6.835780</td>\n",
       "    </tr>\n",
       "    <tr>\n",
       "      <th>25%</th>\n",
       "      <td>2000.000000</td>\n",
       "      <td>9.960967</td>\n",
       "      <td>10.225400</td>\n",
       "    </tr>\n",
       "    <tr>\n",
       "      <th>50%</th>\n",
       "      <td>2005.500000</td>\n",
       "      <td>20.833100</td>\n",
       "      <td>11.375700</td>\n",
       "    </tr>\n",
       "    <tr>\n",
       "      <th>75%</th>\n",
       "      <td>2011.000000</td>\n",
       "      <td>34.259850</td>\n",
       "      <td>16.473250</td>\n",
       "    </tr>\n",
       "    <tr>\n",
       "      <th>max</th>\n",
       "      <td>2016.000000</td>\n",
       "      <td>113.186000</td>\n",
       "      <td>29.590900</td>\n",
       "    </tr>\n",
       "  </tbody>\n",
       "</table>\n",
       "</div>"
      ],
      "text/plain": [
       "              Year  Rainfall-MM  Temperature-Celsius\n",
       "count   264.000000   264.000000           264.000000\n",
       "mean   2005.500000    25.814406            15.016457\n",
       "std       6.356339    21.106613             7.032235\n",
       "min    1995.000000     0.161850             6.835780\n",
       "25%    2000.000000     9.960967            10.225400\n",
       "50%    2005.500000    20.833100            11.375700\n",
       "75%    2011.000000    34.259850            16.473250\n",
       "max    2016.000000   113.186000            29.590900"
      ]
     },
     "execution_count": 9,
     "metadata": {},
     "output_type": "execute_result"
    }
   ],
   "source": [
    "weather.describe()"
   ]
  },
  {
   "cell_type": "code",
   "execution_count": 10,
   "id": "f7794605-b66f-48d1-a790-78af20f5240f",
   "metadata": {},
   "outputs": [
    {
     "data": {
      "text/plain": [
       "0.08852118789945308"
      ]
     },
     "execution_count": 10,
     "metadata": {},
     "output_type": "execute_result"
    }
   ],
   "source": [
    "corr = weather[\"Rainfall-MM\"].corr(weather[\"Temperature-Celsius\"])\n",
    "corr"
   ]
  },
  {
   "cell_type": "code",
   "execution_count": 11,
   "id": "90e2959f-eed9-4c9f-a94d-fb4edc9f0323",
   "metadata": {},
   "outputs": [],
   "source": [
    "Month = pd.DataFrame(weather.groupby(['Month']).mean())"
   ]
  },
  {
   "cell_type": "code",
   "execution_count": 12,
   "id": "7b848349-d7e4-4aa1-a29c-6fad3ec0cc3a",
   "metadata": {},
   "outputs": [],
   "source": [
    "new_order = ['January', 'February', 'March', 'April', 'May', 'June', 'July', 'August', 'September', 'October', 'November', 'December']\n",
    "Month = Month.reindex(new_order, axis=0)"
   ]
  },
  {
   "cell_type": "code",
   "execution_count": 13,
   "id": "849c9a6d-8176-4ceb-89e7-404cd7bf1f6e",
   "metadata": {},
   "outputs": [],
   "source": [
    "Month.drop([\"Year\"], axis=1, inplace=True)"
   ]
  },
  {
   "cell_type": "code",
   "execution_count": 14,
   "id": "a3493a11-2fbc-4716-a188-287165ab24ac",
   "metadata": {},
   "outputs": [
    {
     "data": {
      "text/html": [
       "<div>\n",
       "<style scoped>\n",
       "    .dataframe tbody tr th:only-of-type {\n",
       "        vertical-align: middle;\n",
       "    }\n",
       "\n",
       "    .dataframe tbody tr th {\n",
       "        vertical-align: top;\n",
       "    }\n",
       "\n",
       "    .dataframe thead th {\n",
       "        text-align: right;\n",
       "    }\n",
       "</style>\n",
       "<table border=\"1\" class=\"dataframe\">\n",
       "  <thead>\n",
       "    <tr style=\"text-align: right;\">\n",
       "      <th></th>\n",
       "      <th>Rainfall-MM</th>\n",
       "      <th>Temperature-Celsius</th>\n",
       "    </tr>\n",
       "    <tr>\n",
       "      <th>Month</th>\n",
       "      <th></th>\n",
       "      <th></th>\n",
       "    </tr>\n",
       "  </thead>\n",
       "  <tbody>\n",
       "    <tr>\n",
       "      <th>January</th>\n",
       "      <td>20.803890</td>\n",
       "      <td>9.016451</td>\n",
       "    </tr>\n",
       "    <tr>\n",
       "      <th>February</th>\n",
       "      <td>30.321028</td>\n",
       "      <td>10.825478</td>\n",
       "    </tr>\n",
       "    <tr>\n",
       "      <th>March</th>\n",
       "      <td>32.990508</td>\n",
       "      <td>22.590118</td>\n",
       "    </tr>\n",
       "    <tr>\n",
       "      <th>April</th>\n",
       "      <td>26.009182</td>\n",
       "      <td>10.825478</td>\n",
       "    </tr>\n",
       "    <tr>\n",
       "      <th>May</th>\n",
       "      <td>15.609768</td>\n",
       "      <td>27.819150</td>\n",
       "    </tr>\n",
       "    <tr>\n",
       "      <th>June</th>\n",
       "      <td>23.019000</td>\n",
       "      <td>19.609556</td>\n",
       "    </tr>\n",
       "    <tr>\n",
       "      <th>July</th>\n",
       "      <td>54.592427</td>\n",
       "      <td>20.126138</td>\n",
       "    </tr>\n",
       "    <tr>\n",
       "      <th>August</th>\n",
       "      <td>56.682545</td>\n",
       "      <td>10.825478</td>\n",
       "    </tr>\n",
       "    <tr>\n",
       "      <th>September</th>\n",
       "      <td>23.276895</td>\n",
       "      <td>10.926274</td>\n",
       "    </tr>\n",
       "    <tr>\n",
       "      <th>October</th>\n",
       "      <td>8.083199</td>\n",
       "      <td>10.926274</td>\n",
       "    </tr>\n",
       "    <tr>\n",
       "      <th>November</th>\n",
       "      <td>7.182601</td>\n",
       "      <td>15.881605</td>\n",
       "    </tr>\n",
       "    <tr>\n",
       "      <th>December</th>\n",
       "      <td>11.201833</td>\n",
       "      <td>10.825478</td>\n",
       "    </tr>\n",
       "  </tbody>\n",
       "</table>\n",
       "</div>"
      ],
      "text/plain": [
       "           Rainfall-MM  Temperature-Celsius\n",
       "Month                                      \n",
       "January      20.803890             9.016451\n",
       "February     30.321028            10.825478\n",
       "March        32.990508            22.590118\n",
       "April        26.009182            10.825478\n",
       "May          15.609768            27.819150\n",
       "June         23.019000            19.609556\n",
       "July         54.592427            20.126138\n",
       "August       56.682545            10.825478\n",
       "September    23.276895            10.926274\n",
       "October       8.083199            10.926274\n",
       "November      7.182601            15.881605\n",
       "December     11.201833            10.825478"
      ]
     },
     "execution_count": 14,
     "metadata": {},
     "output_type": "execute_result"
    }
   ],
   "source": [
    "Month"
   ]
  },
  {
   "cell_type": "code",
   "execution_count": 15,
   "id": "0a60c8c2-0534-4032-9bb0-a5d2323eaefe",
   "metadata": {},
   "outputs": [
    {
     "data": {
      "text/html": [
       "<div>\n",
       "<style scoped>\n",
       "    .dataframe tbody tr th:only-of-type {\n",
       "        vertical-align: middle;\n",
       "    }\n",
       "\n",
       "    .dataframe tbody tr th {\n",
       "        vertical-align: top;\n",
       "    }\n",
       "\n",
       "    .dataframe thead th {\n",
       "        text-align: right;\n",
       "    }\n",
       "</style>\n",
       "<table border=\"1\" class=\"dataframe\">\n",
       "  <thead>\n",
       "    <tr style=\"text-align: right;\">\n",
       "      <th></th>\n",
       "      <th>Rainfall-MM</th>\n",
       "      <th>Temperature-Celsius</th>\n",
       "    </tr>\n",
       "    <tr>\n",
       "      <th>Year</th>\n",
       "      <th></th>\n",
       "      <th></th>\n",
       "    </tr>\n",
       "  </thead>\n",
       "  <tbody>\n",
       "    <tr>\n",
       "      <th>1995</th>\n",
       "      <td>29.386670</td>\n",
       "      <td>16.579306</td>\n",
       "    </tr>\n",
       "    <tr>\n",
       "      <th>1996</th>\n",
       "      <td>28.554229</td>\n",
       "      <td>12.580954</td>\n",
       "    </tr>\n",
       "    <tr>\n",
       "      <th>1997</th>\n",
       "      <td>30.677396</td>\n",
       "      <td>16.107643</td>\n",
       "    </tr>\n",
       "    <tr>\n",
       "      <th>1998</th>\n",
       "      <td>25.076168</td>\n",
       "      <td>12.634912</td>\n",
       "    </tr>\n",
       "    <tr>\n",
       "      <th>1999</th>\n",
       "      <td>21.135063</td>\n",
       "      <td>17.203439</td>\n",
       "    </tr>\n",
       "    <tr>\n",
       "      <th>2000</th>\n",
       "      <td>15.983080</td>\n",
       "      <td>13.149614</td>\n",
       "    </tr>\n",
       "    <tr>\n",
       "      <th>2001</th>\n",
       "      <td>19.488182</td>\n",
       "      <td>17.295868</td>\n",
       "    </tr>\n",
       "    <tr>\n",
       "      <th>2002</th>\n",
       "      <td>17.455713</td>\n",
       "      <td>13.795144</td>\n",
       "    </tr>\n",
       "    <tr>\n",
       "      <th>2003</th>\n",
       "      <td>32.173924</td>\n",
       "      <td>16.914566</td>\n",
       "    </tr>\n",
       "    <tr>\n",
       "      <th>2004</th>\n",
       "      <td>21.477698</td>\n",
       "      <td>13.828606</td>\n",
       "    </tr>\n",
       "    <tr>\n",
       "      <th>2005</th>\n",
       "      <td>26.974240</td>\n",
       "      <td>17.043149</td>\n",
       "    </tr>\n",
       "    <tr>\n",
       "      <th>2006</th>\n",
       "      <td>30.470729</td>\n",
       "      <td>13.435901</td>\n",
       "    </tr>\n",
       "    <tr>\n",
       "      <th>2007</th>\n",
       "      <td>26.539996</td>\n",
       "      <td>16.700070</td>\n",
       "    </tr>\n",
       "    <tr>\n",
       "      <th>2008</th>\n",
       "      <td>28.102989</td>\n",
       "      <td>12.737795</td>\n",
       "    </tr>\n",
       "    <tr>\n",
       "      <th>2009</th>\n",
       "      <td>23.550433</td>\n",
       "      <td>17.627158</td>\n",
       "    </tr>\n",
       "    <tr>\n",
       "      <th>2010</th>\n",
       "      <td>32.079900</td>\n",
       "      <td>13.542228</td>\n",
       "    </tr>\n",
       "    <tr>\n",
       "      <th>2011</th>\n",
       "      <td>26.790030</td>\n",
       "      <td>16.603035</td>\n",
       "    </tr>\n",
       "    <tr>\n",
       "      <th>2012</th>\n",
       "      <td>22.835234</td>\n",
       "      <td>12.375303</td>\n",
       "    </tr>\n",
       "    <tr>\n",
       "      <th>2013</th>\n",
       "      <td>29.153537</td>\n",
       "      <td>16.950300</td>\n",
       "    </tr>\n",
       "    <tr>\n",
       "      <th>2014</th>\n",
       "      <td>22.957235</td>\n",
       "      <td>12.817926</td>\n",
       "    </tr>\n",
       "    <tr>\n",
       "      <th>2015</th>\n",
       "      <td>33.140839</td>\n",
       "      <td>16.637492</td>\n",
       "    </tr>\n",
       "    <tr>\n",
       "      <th>2016</th>\n",
       "      <td>23.913655</td>\n",
       "      <td>13.801633</td>\n",
       "    </tr>\n",
       "  </tbody>\n",
       "</table>\n",
       "</div>"
      ],
      "text/plain": [
       "      Rainfall-MM  Temperature-Celsius\n",
       "Year                                  \n",
       "1995    29.386670            16.579306\n",
       "1996    28.554229            12.580954\n",
       "1997    30.677396            16.107643\n",
       "1998    25.076168            12.634912\n",
       "1999    21.135063            17.203439\n",
       "2000    15.983080            13.149614\n",
       "2001    19.488182            17.295868\n",
       "2002    17.455713            13.795144\n",
       "2003    32.173924            16.914566\n",
       "2004    21.477698            13.828606\n",
       "2005    26.974240            17.043149\n",
       "2006    30.470729            13.435901\n",
       "2007    26.539996            16.700070\n",
       "2008    28.102989            12.737795\n",
       "2009    23.550433            17.627158\n",
       "2010    32.079900            13.542228\n",
       "2011    26.790030            16.603035\n",
       "2012    22.835234            12.375303\n",
       "2013    29.153537            16.950300\n",
       "2014    22.957235            12.817926\n",
       "2015    33.140839            16.637492\n",
       "2016    23.913655            13.801633"
      ]
     },
     "execution_count": 15,
     "metadata": {},
     "output_type": "execute_result"
    }
   ],
   "source": [
    "Year = pd.DataFrame(weather.groupby(['Year']).mean())\n",
    "Year"
   ]
  },
  {
   "cell_type": "code",
   "execution_count": 16,
   "id": "aa17cf4b-0b14-4860-bb97-a667a1188b3c",
   "metadata": {},
   "outputs": [
    {
     "data": {
      "text/plain": [
       "<matplotlib.axes._subplots.AxesSubplot at 0x1f8eba51eb8>"
      ]
     },
     "execution_count": 16,
     "metadata": {},
     "output_type": "execute_result"
    },
    {
     "data": {
      "image/png": "[encoded data removed]",
      "text/plain": [
       "<Figure size 432x288 with 1 Axes>"
      ]
     },
     "metadata": {
      "needs_background": "light"
     },
     "output_type": "display_data"
    }
   ],
   "source": [
    "Month.plot.box()"
   ]
  },
  {
   "cell_type": "code",
   "execution_count": 17,
   "id": "8cbcd437-d279-488f-b2aa-f4ac5f6784bb",
   "metadata": {},
   "outputs": [
    {
     "data": {
      "text/plain": [
       "<matplotlib.legend.Legend at 0x1f8ebae59e8>"
      ]
     },
     "execution_count": 17,
     "metadata": {},
     "output_type": "execute_result"
    },
    {
     "data": {
      "image/png": "[encoded data removed]",
      "text/plain": [
       "<Figure size 432x288 with 1 Axes>"
      ]
     },
     "metadata": {
      "needs_background": "light"
     },
     "output_type": "display_data"
    }
   ],
   "source": [
    "Month.plot(title = \"Monthly Temperature & Precipitation \", linestyle='dotted',color= [\"green\", \"red\"])\n",
    "plt.legend(bbox_to_anchor=(1.0, 0.6))"
   ]
  },
  {
   "cell_type": "code",
   "execution_count": 18,
   "id": "c9e4b3d0-71b4-4d30-8f2f-f006cefff028",
   "metadata": {},
   "outputs": [
    {
     "data": {
      "text/plain": [
       "<matplotlib.legend.Legend at 0x1f8ebbffdd8>"
      ]
     },
     "execution_count": 18,
     "metadata": {},
     "output_type": "execute_result"
    },
    {
     "data": {
      "image/png": "[encoded data removed]",
      "text/plain": [
       "<Figure size 432x288 with 1 Axes>"
      ]
     },
     "metadata": {
      "needs_background": "light"
     },
     "output_type": "display_data"
    }
   ],
   "source": [
    "Year.plot(title = \"Yearly Temperature & Precipitation \", linestyle='dotted',color= [\"green\", \"red\"])\n",
    "plt.legend(bbox_to_anchor=(1.0, 0.6))"
   ]
  },
  {
   "cell_type": "code",
   "execution_count": 19,
   "id": "3d0a35ed-1e37-4377-8e5c-aa3cddb846a0",
   "metadata": {},
   "outputs": [],
   "source": [
    "winter = Month.iloc[[0,1,11]] # Jan, Feb, Dec\n",
    "spring = Month.iloc[[2,3,4]] # Mar, Apr, May\n",
    "summer = Month.iloc[[5,6,7]] # Jun, Jul, Aug\n",
    "autumn = Month.iloc[[8,9,10]] # Sep, Oct, Nov"
   ]
  },
  {
   "cell_type": "code",
   "execution_count": 20,
   "id": "6f41a4b0-e521-487b-b164-a5518e553291",
   "metadata": {},
   "outputs": [
    {
     "data": {
      "image/png": "[encoded data removed]",
      "text/plain": [
       "<Figure size 1080x720 with 4 Axes>"
      ]
     },
     "metadata": {
      "needs_background": "light"
     },
     "output_type": "display_data"
    }
   ],
   "source": [
    "fig, axes = plt.subplots(nrows=2, ncols=2, figsize=(15,10));\n",
    "\n",
    "ax11 = axes[0][0]\n",
    "ax12 = axes[0][1]\n",
    "ax21 = axes[1][0]\n",
    "ax22 = axes[1][1]\n",
    "\n",
    "\n",
    "# Plot data\n",
    "winter.plot.bar(ax=ax11, title = \"Winter\")\n",
    "spring.plot.bar(ax=ax12,title = \"Spring\")\n",
    "summer.plot.bar(ax=ax21,title = \"Summer\")\n",
    "autumn.plot.bar(ax=ax22,title = \"Autumn\")\n",
    "\n",
    "\n",
    "# set the spacing between subplots\n",
    "plt.subplots_adjust(left=0.1,\n",
    "                    bottom=0.1, \n",
    "                    right=0.9, \n",
    "                    top=0.9, \n",
    "                    wspace=0.4, \n",
    "                    hspace=0.4)\n",
    "\n"
   ]
  },
  {
   "cell_type": "markdown",
   "id": "e016d59f-3c18-4fef-a814-155b01eb2e85",
   "metadata": {},
   "source": [
    "## <a id= 'evaluate_3d2'></a> Summary"
   ]
  },
  {
   "cell_type": "markdown",
   "id": "88e33c9f-5f4d-437a-ab58-71fa090a5b3a",
   "metadata": {},
   "source": [
    "The mean temperature and mean rainfall of Pakistan is 15 oC and 25 mm respectively from 1995 to 2016.\n",
    "The maximum mean temperature is 29.0 oC and the maximum precipitation is 113 mm. The correlation between rainfall and temperature is not strong with the value of 0.08.\n",
    "Monthly analysis of rainfall shows that maximum rainfall is during the months of June, July, August and September that is also the moonsoon season in Pakistan. \n",
    "Monthly analysis of temperature shows, there is some error in recording of temperature as temperature drop \n",
    "from March to April and increase very abruptly to May. In Pakistan the season of summer is from June to August whereas the winter season is from December to Faburary.\n",
    "Yearly analysis of Rainfall shows that slightly rainfall increased from 1995 to 2016 that could be due to global warming. "
   ]
  }
 ],
 "metadata": {
  "kernelspec": {
   "display_name": "Python 3",
   "language": "python",
   "name": "python3"
  },
  "language_info": {
   "codemirror_mode": {
    "name": "ipython",
    "version": 3
   },
   "file_extension": ".py",
   "mimetype": "text/x-python",
   "name": "python",
   "nbconvert_exporter": "python",
   "pygments_lexer": "ipython3",
   "version": "3.6.13"
  }
 },
 "nbformat": 4,
 "nbformat_minor": 5
}
